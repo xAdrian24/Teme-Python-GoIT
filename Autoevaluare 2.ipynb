{
 "cells": [
  {
   "cell_type": "markdown",
   "metadata": {},
   "source": [
    "# Autoevaluare 2"
   ]
  },
  {
   "cell_type": "markdown",
   "metadata": {},
   "source": [
    "ex. 1  Un string este un obiect iterabil, ceea ce înseamnă că îl putem folosi într-o buclă for.\n",
    "\n",
    "Utilizează bucla for pentru a calcula numărul de apariții al conținutului variabilei search într-un șir dat message. Scrie rezultatul în variabila result.\n"
   ]
  },
  {
   "cell_type": "code",
   "execution_count": null,
   "metadata": {},
   "outputs": [],
   "source": [
    "message = \"Never argue with stupid people, they will drag you down to their level and then beat you with experience.\"\n",
    "search = \"r\"\n",
    "result = 0\n",
    "for char in message:\n",
    "    if char == search:\n",
    "        result += 1\n",
    "\n",
    "print(result)"
   ]
  },
  {
   "cell_type": "markdown",
   "metadata": {},
   "source": [
    "ex. 2   Scrie două bucle imbricate una în alta.\n",
    "\n",
    "În prima buclă while vom cere în mod constant introducerea un număr întreg, iar în a doua buclă for vom calcula suma numerelor de la 0 până la numărul introdus inclusiv și vom adăuga la variabila sum.\n",
    "\n",
    "Variabila sum acumulează sumele la fiecare introducere a unui număr. Ieșirea din prima buclă se va realiza dacă se introduce numărul 0.\n",
    "\n",
    "Testele folosesc două secvențe de numere:\n",
    "\n",
    "10, 13, 73, 0, așteptând suma 2847.\n",
    "1, 2, 3, 4, 0, așteptând suma 20. "
   ]
  },
  {
   "cell_type": "code",
   "execution_count": null,
   "metadata": {},
   "outputs": [],
   "source": [
    "sum = 0\n",
    "num = 10\n",
    "while num != 0:\n",
    "    num = int(input(\"Enter integer (0 for output): \"))\n",
    "    for i in range(num + 1):\n",
    "        sum = sum+i\n",
    "    print(num)\n",
    "    \n",
    "\n",
    "print(f\"Sum is {sum}\")"
   ]
  },
  {
   "cell_type": "markdown",
   "metadata": {},
   "source": [
    "ex. 3   Declară funcția greeting care va imprima mesajul de salutare print('Hello world!') și apeleaz-o în cod "
   ]
  },
  {
   "cell_type": "code",
   "execution_count": null,
   "metadata": {},
   "outputs": [],
   "source": [
    "def greeting():\n",
    "    print('Hello world!')\n",
    "\n",
    "greeting()"
   ]
  },
  {
   "cell_type": "markdown",
   "metadata": {},
   "source": [
    "ex. 4   Am primit sarcina de a crea o listă de invitații la un eveniment festiv: toate invitațiile sunt scrise folosind același șablon, cu excepția numelui invitatului, care se va schimba. Este evident că pentru formularea acestui mesaj este mai bine să folosim o funcție.\n",
    "\n",
    "Creează o funcție invite_to_event, care va primi numele invitatului username și va returna următorul șir de caractere:\n",
    "\n",
    "\"Dear {username}, we have the honour to invite you to our event\". "
   ]
  },
  {
   "cell_type": "code",
   "execution_count": null,
   "metadata": {},
   "outputs": [],
   "source": [
    "def invite_to_event(username):\n",
    "    return f\"Dear {username}, we have the honour to invite you to our event\"\n",
    "\n",
    "invite_to_event('Marta')"
   ]
  },
  {
   "cell_type": "markdown",
   "metadata": {},
   "source": [
    "ex. 5   Scrie o funcție care să calculeze suma pentru serviciile de taxi:\n",
    "\n",
    "Tariful de bază base_rate este de 5 RON;\n",
    "Costul pentru fiecare kilometru al traseului preț_pe_km este de 1 RON.\n",
    "Scrie o funcție care să primească ca argument distance_km numărul de kilometri parcurși pe traseu. Această funcție trebuie să returneze suma totală de plată pentru călătorie.\n",
    "\n",
    "În afară de calcularea costului, funcția trebuie să modifice și variabila globală contor total_trip și să o incrementeze cu o unitate după fiecare apel."
   ]
  },
  {
   "cell_type": "code",
   "execution_count": null,
   "metadata": {},
   "outputs": [],
   "source": [
    "base_rate = 5\n",
    "price_per_km = 1\n",
    "total_trip = 0\n",
    "\n",
    "def calculate_trip_price(distance_km):\n",
    "    global total_trip\n",
    "    total_price = base_rate + price_per_km * distance_km\n",
    "    total_trip += 1\n",
    "    return total_price"
   ]
  },
  {
   "cell_type": "markdown",
   "metadata": {},
   "source": [
    "ex. 6   Scrie o funcție care să returneze numele complet al utilizatorului. În baza de date, de obicei, sunt stocate prenumele utilizatorului first_name, numele last_name și al doilea nume sau al treilea, așa cum este obișnuit în țările occidentale, numit middle_name. Totuși, middle_name este opțional, adică poate fi prezent sau nu atunci când se apelează funcția.\n",
    "\n",
    "Funcția noastră va returna un șir de caractere cu numele complet 'first_name middle_name last_name', dar dacă variabila middle_name nu este prezentă, atunci șirul returnat ar trebui să fie 'first_name last_name'."
   ]
  },
  {
   "cell_type": "code",
   "execution_count": null,
   "metadata": {},
   "outputs": [],
   "source": [
    "def get_fullname (first_name, last_name, middle_name=\"\"):\n",
    "    if middle_name:\n",
    "        return f\"{first_name} {middle_name} {last_name}\"\n",
    "    else:\n",
    "        return f\"{first_name} {last_name}\""
   ]
  },
  {
   "cell_type": "markdown",
   "metadata": {},
   "source": [
    "ex. 7  Avem o listă de indicatori pentru plata serviciilor comunale la sfârșitul fiecărei luni. Acești indicatori pot fi:\n",
    "\n",
    "negativi în cazul unei plăți în plus;\n",
    "pozitivi în cazul unor datorii pentru luna respectivă.\n",
    "Scrie o funcție amount_payment care primește listă de plăți ca intrare, adună valorile pozitive și returnează suma totală a datoriilor."
   ]
  },
  {
   "cell_type": "code",
   "execution_count": null,
   "metadata": {},
   "outputs": [],
   "source": [
    "def amount_payment(payments):\n",
    "    totals = 0\n",
    "    for payment in payments:\n",
    "        if payment > 0:\n",
    "            totals += payment\n",
    "    return totals"
   ]
  },
  {
   "cell_type": "markdown",
   "metadata": {},
   "source": [
    "ex. 8  În timpul analizei datelor, adesea este necesar să excluzi valorile extreme înainte de a lucra mai departe cu datele.\n",
    "\n",
    "Scrie o funcție numită prepare_data care să elimine cea mai mare și cea mai mică valoare dintr-o listă dată, să o sorteze în ordine crescătoare și să o returneze modificată ca rezultat."
   ]
  },
  {
   "cell_type": "code",
   "execution_count": null,
   "metadata": {},
   "outputs": [],
   "source": [
    "def prepare_data(data):\n",
    "    data.remove(max(data))\n",
    "    data.remove(min(data))\n",
    "    data.sort()\n",
    "\n",
    "    return data"
   ]
  },
  {
   "cell_type": "markdown",
   "metadata": {},
   "source": [
    "ex. 9  După cum știm, fiecare cheie din dicționar trebuie să fie unică, dar aceeași valoare poate apărea de mai multe ori și corespunde unor chei diferite.\n",
    "\n",
    "Implementează funcția lookup_key, care caută în dicționarul data toate cheile a căror valoare este egală cu valoarea parametrului value și le returnează sub formă de listă.\n",
    "\n",
    "Rezultatul poate fi fie o listă goală, dacă nu se găsește nicio potrivire, fie o listă goală."
   ]
  },
  {
   "cell_type": "code",
   "execution_count": null,
   "metadata": {},
   "outputs": [],
   "source": [
    "def lookup_key(data, value):\n",
    "    matching_keys = []\n",
    "    for key in data:\n",
    "        if data[key] == value:\n",
    "            matching_keys.append(key)\n",
    "    return matching_keys"
   ]
  },
  {
   "cell_type": "markdown",
   "metadata": {},
   "source": [
    "ex. 10  Recent am organizat un test pentru studenții din grupa de testare și acum avem o listă cu notele pe care le-au obținut. Această listă trebuie să fie împărțită în două:\n",
    "\n",
    "Lista cu notele sub media grupei, inclusiv media.\n",
    "O listă cu notele peste media grupei.\n",
    "Scrie o funcție split_list, care să ia ca argument o listă de numere întregi și să returneze un tuplu de două liste, formate conform logicii de mai sus. Media, de asemenea, trebuie calculată și în funcție.\n",
    "\n",
    "Reține că lista de note poate fi goală — în acest caz, funcția trebuie să returneze două noi liste goale."
   ]
  },
  {
   "cell_type": "code",
   "execution_count": null,
   "metadata": {},
   "outputs": [],
   "source": [
    "def split_list(grade):\n",
    "    if not grade:\n",
    "        return ([], [])\n",
    "    medie = sum(grade) / len(grade)\n",
    "    sub_egal_medie = list (x for x in grade if x <= medie)\n",
    "    peste_medie = list (x for x in grade if x > medie)\n",
    "    return sub_egal_medie, peste_medie"
   ]
  }
 ],
 "metadata": {
  "language_info": {
   "name": "python"
  }
 },
 "nbformat": 4,
 "nbformat_minor": 2
}
