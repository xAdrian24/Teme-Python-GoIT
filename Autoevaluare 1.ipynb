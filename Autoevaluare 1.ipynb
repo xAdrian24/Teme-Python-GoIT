{
 "cells": [
  {
   "cell_type": "markdown",
   "metadata": {},
   "source": [
    "# Autoevaluare 1"
   ]
  },
  {
   "cell_type": "markdown",
   "metadata": {},
   "source": [
    "ex. 1  Creează o variabilă name și atribuie-i numele tău. De exemplu, Daniel . Creează o variabilă age și atribuie-i vârsta ta."
   ]
  },
  {
   "cell_type": "code",
   "execution_count": null,
   "metadata": {},
   "outputs": [],
   "source": [
    "name = \"Cosmin Adrian\"\n",
    "age = 31"
   ]
  },
  {
   "cell_type": "markdown",
   "metadata": {},
   "source": [
    "ex. 2  Hai să calculăm suma de plată folosind noile tale cunoștințe\n",
    "Vom folosi următoarele variabile pentru acest calcul:\n",
    "rate - această variabilă conține deja tariful de care avem nevoie pentru calcul — suma de plată per kilowatt de energie electrică.\n",
    "În variabila value vom scrie citirea contorului în kilowați — această valoare trebuie să fie un număr întreg. Trebuie să o introduci tu însuți.\n",
    "În cele din urmă, în variabila payment vom calcula cât va trebui să plătim pentru consum"
   ]
  },
  {
   "cell_type": "code",
   "execution_count": null,
   "metadata": {},
   "outputs": [],
   "source": [
    "rate = 1.68\n",
    "value = 3480\n",
    "payment = rate * value"
   ]
  },
  {
   "cell_type": "markdown",
   "metadata": {},
   "source": [
    "ex. 3  După ce am calculat suma pentru energie, am aflat că de această lună s-a introdus un tarif separat pentru consumul de noapte. Nu este o problemă, pentru că avem deja valorile pentru consumul de zi și de noapte în variabilele value_day și value_night. Trebuie doar să le calculăm.\n",
    "Tariful pe timp de zi rămâne același și este stocat în variabila rate , dar tariful pe timp de noapte este de două ori mai mic, așa că sarcina ta este de a atribui o expresie variabileipayment care să calculeze suma care trebuie plătită pentru consum, ținând cont de această diferență, și de a  seta valorile întregi pentruvalue_day și value_night pentru a controla calculul.\n",
    "Tariful pentru zi rămâne neschimbat în variabila rate, dar tariful pentru noapte este de două ori mai mic. Așa că, sarcina ta este de a atribui o expresie variabilei payment care să calculeze suma care trebuie plătită pentru consum, ținând cont de această diferență, și de a seta valorile întregi pentru value_day și value_night pentru a verifica calculul."
   ]
  },
  {
   "cell_type": "code",
   "execution_count": null,
   "metadata": {},
   "outputs": [],
   "source": [
    "rate = 1.68\n",
    "value_day = 500\n",
    "value_night = 400\n",
    "payment = rate * value_day + (rate / 2) * value_night"
   ]
  },
  {
   "cell_type": "markdown",
   "metadata": {},
   "source": [
    "ex. 4  Să ne întoarcem la sarcina anterioară și să adăugăm un comentariu explicativ înainte de calculul variabilei payment: comentează textul 'Payment for electricity for the current month' pentru ca codul să funcționeze."
   ]
  },
  {
   "cell_type": "code",
   "execution_count": null,
   "metadata": {},
   "outputs": [],
   "source": [
    "rate = 1.68\n",
    "value_day = 358\n",
    "value_night = 103\n",
    "payment = rate * value_day + rate / 2 * value_night"
   ]
  },
  {
   "cell_type": "markdown",
   "metadata": {},
   "source": [
    "ex. 5  Ei bine, hai să luăm o pauză de la plata facturilor: este timpul să mergem în vacanță, ceea ce înseamnă că este timpul să cumpărăm bilete. Pentru a cumpăra bilete, trebuie să furnizezi informații personale, așa că hai să creăm o variabilă first_name, care să conțină prenumele tău și o variabilă last_name, care să conțină numele tău de familie."
   ]
  },
  {
   "cell_type": "code",
   "execution_count": null,
   "metadata": {},
   "outputs": [],
   "source": [
    "first_name = 'Marta Elisa'\n",
    "last_name = 'Hura Toth'"
   ]
  },
  {
   "cell_type": "markdown",
   "metadata": {},
   "source": [
    "ex. 6  În sarcina anterioară, am declarat variabile separate pentru nume și prenume, însă este necesar să le introducem pe aceeași linie! Utilizează concatenarea pentru a crea un nou string și atribuie-l variabilei full_name, începând cu prenume, urmat de nume."
   ]
  },
  {
   "cell_type": "code",
   "execution_count": null,
   "metadata": {},
   "outputs": [],
   "source": [
    "first_name = 'Marta Elisa'\n",
    "last_name = 'Hura Toth'\n",
    "full_name = first_name + ' ' + last_name"
   ]
  },
  {
   "cell_type": "markdown",
   "metadata": {},
   "source": [
    "ex. 7   În acest moment, avem trei variabile: first_name, last_name și full_name.\n",
    "\n",
    "Să adăugăm variabila message, care va fi de fapt un prototip al unui model de e-mail pentru utilizatorul care a cumpărat biletul. Vom crea această variabilă folosind un f-string. În variabila message vom folosi f-string pentru a plasa următoarea linie de text:\n",
    "\n",
    "\"Dear , we inform you that you have purchased a ticket to travel to the island of Mauritius. Departure June 31 of this year. Have a passport at . We are looking forward to seeing you!\""
   ]
  },
  {
   "cell_type": "code",
   "execution_count": null,
   "metadata": {},
   "outputs": [],
   "source": [
    "first_name = \"John\"\n",
    "last_name = \"Smith\"\n",
    "full_name = first_name + \" \" + last_name\n",
    "message = f\"Dear {first_name}, we inform you that you have purchased a ticket to travel to the island of Mauritius. Departure June 31 of this year. Have a passport at {full_name}. We are looking forward to seeing you!\""
   ]
  },
  {
   "cell_type": "markdown",
   "metadata": {},
   "source": [
    "ex. 8  Tipul boolean este adesea utilizat pentru a indica starea unui obiect. De exemplu, variabila is_active poate indica dacă un cont de utilizator este activ sau nu. De asemenea, deseori, conturile de utilizator nu sunt șterse din baza de date, ci pur și simplu sunt setate la proprietatea is_delete – acest lucru se numește soft delete.\n",
    "\n",
    "Pentru a marca un cont de utilizator ca fiind activ în acest moment, setează variabila is_active la true și variabila is_delete la false."
   ]
  },
  {
   "cell_type": "code",
   "execution_count": null,
   "metadata": {},
   "outputs": [],
   "source": [
    "is_active = True\n",
    "is_delete = False"
   ]
  },
  {
   "cell_type": "markdown",
   "metadata": {},
   "source": [
    "ex. 9   Atunci când completăm un chestionar pe site, trebuie să folosim funcția input pentru a atribui valori variabilelor corespunzătoare:\n",
    "\n",
    "name - nume, string\n",
    "email - e-mail, string\n",
    "age - vârsta, număr întreg (int)\n",
    "height - înălțimea în metri, număr cu virgulă mobilă (float)\n",
    "is_active - dacă dorim să primim sau nu notificări de la site, valoare booleană (bool)"
   ]
  },
  {
   "cell_type": "code",
   "execution_count": null,
   "metadata": {},
   "outputs": [],
   "source": [
    "name = input(\"Your name? \")\n",
    "email = input('Your email? ')\n",
    "age = int(input('Your age? '))\n",
    "height = float(input('Your height in meters? '))\n",
    "is_active = bool(input('Do you want notifications? '))"
   ]
  },
  {
   "cell_type": "markdown",
   "metadata": {},
   "source": [
    "ex. 10  La interviul tehnic, candidații primesc un punctaj pentru test. Doar cei cu un scor de 83 sau mai mare pot trece la următoarea rundă de interviuri.\n",
    "\n",
    "Folosind instrucțiunea condițională if și construcția if-else, scrie un cod care va atribui variabilei is_next valoarea True, dacă numărul de puncte obținute este mai mare sau egal cu 83. În caz contrar, valoarea variabilei trebuie să fie False."
   ]
  },
  {
   "cell_type": "code",
   "execution_count": null,
   "metadata": {},
   "outputs": [],
   "source": [
    "is_next = None\n",
    "num = int(input(\"Enter the number of points: \"))\n",
    "if num >= 83:\n",
    "    result = is_next = True\n",
    "else:\n",
    "    result = is_next = False\n",
    "print(result)"
   ]
  },
  {
   "cell_type": "markdown",
   "metadata": {},
   "source": [
    "ex. 11   De obicei, experiența unui specialist din domeniul IT este evaluată folosind trei grade principale:\n",
    "\n",
    "Junior - specialist junior\n",
    "Middle - specialist de nivel mediu\n",
    "Senior - specialist de nivel superior\n",
    "În linii mari, putem presupune că până la 1 an de muncă inclusiv este un Junior, mai mult de 5 ani este un Senior developer, iar de la 1 la 5 ani inclusiv este un Middle.\n",
    "\n",
    "Codul nostru are deja o variabilă work_experience, care determină experiența de lucru a unui dezvoltator Python. În funcție de experiența de lucru, atribuie variabilei developer_type valoarea \"Junior\", \"Middle\" sau \"Senior\"."
   ]
  },
  {
   "cell_type": "code",
   "execution_count": null,
   "metadata": {},
   "outputs": [],
   "source": [
    "work_experience = int(input(\"Enter your full work experience in years: \"))\n",
    "\n",
    "if work_experience <=1:\n",
    "    developer_type = \"Junior\"\n",
    "elif work_experience <=5:\n",
    "    developer_type = \"Middle\"\n",
    "else:\n",
    "    developer_type = \"Senior\""
   ]
  }
 ],
 "metadata": {
  "language_info": {
   "name": "python"
  }
 },
 "nbformat": 4,
 "nbformat_minor": 2
}
