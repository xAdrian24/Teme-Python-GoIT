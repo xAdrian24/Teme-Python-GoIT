"Creează o variabilă name și atribuie-i numele tău. De exemplu, Daniel . Creează o variabilă age și atribuie-i vârsta ta."
name = "Cosmin Adrian"
age = 31


