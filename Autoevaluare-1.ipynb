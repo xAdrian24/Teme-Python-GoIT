"Creează o variabilă name și atribuie-i numele tău. De exemplu, Daniel . Creează o variabilă age și atribuie-i vârsta ta."
name = "Cosmin Adrian"
age = 31

"Hai să calculăm suma de plată folosind noile tale cunoștințe
Vom folosi următoarele variabile pentru acest calcul:
rate - această variabilă conține deja tariful de care avem nevoie pentru calcul — suma de plată per kilowatt de energie electrică.
În variabila value vom scrie citirea contorului în kilowați — această valoare trebuie să fie un număr întreg. Trebuie să o introduci tu însuți.
În cele din urmă, în variabila payment vom calcula cât va trebui să plătim pentru consum" 

rate = 1.68
value = 100
payment = rate*value

"După ce am calculat suma pentru energie, am aflat că de această lună s-a introdus un tarif separat pentru consumul de noapte. Nu este o problemă, pentru că avem deja valorile pentru consumul de zi și de noapte în variabilele value_day și value_night. Trebuie doar să le calculăm.
Tariful pe timp de zi rămâne același și este stocat în variabila rate , dar tariful pe timp de noapte este de două ori mai mic, așa că sarcina ta este de a atribui o expresie variabileipayment care să calculeze suma care trebuie plătită pentru consum, ținând cont de această diferență, și de a  seta valorile întregi pentruvalue_day și value_night pentru a controla calculul.
Tariful pentru zi rămâne neschimbat în variabila rate, dar tariful pentru noapte este de două ori mai mic. Așa că, sarcina ta este de a atribui o expresie variabilei payment care să calculeze suma care trebuie plătită pentru consum, ținând cont de această diferență, și de a seta valorile întregi pentru value_day și value_night pentru a verifica calculul."

rate = 1.68
value_day = 100
value_night = value_day/2
payment = rate*(value_day+value_night)-42
print(payment)

