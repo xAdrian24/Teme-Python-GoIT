{
 "cells": [
  {
   "cell_type": "code",
   "execution_count": 7,
   "id": "d70b42b2",
   "metadata": {},
   "outputs": [],
   "source": [
    "import pandas as pd\n",
    "dataset = pd.read_csv (\"survey_results_public.csv\")"
   ]
  },
  {
   "cell_type": "code",
   "execution_count": 8,
   "id": "143a92d0",
   "metadata": {},
   "outputs": [
    {
     "name": "stdout",
     "output_type": "stream",
     "text": [
      "Respondenti care au completat sondajul: 89184\n"
     ]
    }
   ],
   "source": [
    "#1. Câți respondenți au completat sondajul?\n",
    "respondenti = dataset [\"ResponseId\"].count()\n",
    "print(f\"Respondenti care au completat sondajul: {respondenti}\")"
   ]
  },
  {
   "cell_type": "code",
   "execution_count": 9,
   "id": "b654e35c",
   "metadata": {},
   "outputs": [
    {
     "name": "stdout",
     "output_type": "stream",
     "text": [
      "Numarul de respondenti care au raspuns la toate intrebarile: 0\n"
     ]
    }
   ],
   "source": [
    "#2. Câți respondenți au răspuns la toate întrebările?\n",
    "respondenti_intrebari = dataset.dropna()\n",
    "nr_raspunsuri_complete = len(respondenti_intrebari)\n",
    "print(f\"Numarul de respondenti care au raspuns la toate intrebarile: {nr_raspunsuri_complete}\")"
   ]
  },
  {
   "cell_type": "code",
   "execution_count": 17,
   "id": "ec029881",
   "metadata": {},
   "outputs": [
    {
     "name": "stdout",
     "output_type": "stream",
     "text": [
      "Media experienței respondenților: nan\n",
      "Mediana experienței respondenților: nan\n",
      "Deviația standard a experienței respondenților: nan\n"
     ]
    }
   ],
   "source": [
    "#3. Care sunt valorile măsurilor de tendință centrală pentru experiența respondenților (WorkExp)?\n",
    "import statistics \n",
    "import numpy as np\n",
    "\n",
    "experienta_respondenti = dataset['WorkExp']\n",
    "\n",
    "media = statistics.mean(experienta_respondenti)\n",
    "mediana = statistics.median(experienta_respondenti)\n",
    "deviatie_standard = np.std(df['WorkExp'].values, ddof=1)\n",
    "\n",
    "# Afișăm rezultatele\n",
    "print(f\"Media experienței respondenților: {media:.2f}\")\n",
    "print(f\"Mediana experienței respondenților: {mediana:.2f}\")\n",
    "print(f\"Deviația standard a experienței respondenților: {deviatie_standard:.2f}\")\n",
    "\n"
   ]
  },
  {
   "cell_type": "code",
   "execution_count": 11,
   "id": "5f697570",
   "metadata": {},
   "outputs": [
    {
     "name": "stdout",
     "output_type": "stream",
     "text": [
      "Numarul de respondenti care lucreaza la distanta: 30566\n"
     ]
    }
   ],
   "source": [
    "#4. Câți respondenți lucrează de la distanță?\n",
    "\n",
    "remote_count = dataset.loc[dataset['RemoteWork'] == 'Remote'].shape[0]\n",
    "print(f\"Numarul de respondenti care lucreaza la distanta: {remote_count}\")"
   ]
  },
  {
   "cell_type": "code",
   "execution_count": 14,
   "id": "1c5962ca",
   "metadata": {},
   "outputs": [
    {
     "name": "stdout",
     "output_type": "stream",
     "text": [
      "Procentul de respondenți care programează în Python: 48.39%\n"
     ]
    }
   ],
   "source": [
    "#5. Ce procent de respondenți programează în Python?\n",
    "\n",
    "# Specificăm coloana dorită și valoarea de filtru (Python)\n",
    "coloana_dorita = 'LanguageHaveWorkedWith'\n",
    "valoare_filtru = 'Python'\n",
    "\n",
    "# Filtrăm DataFrame-ul pentru a obține rândurile cu valoarea 'Python'\n",
    "#OLD df_filtrat = df[df[coloana_dorita] == valoare_filtru]\n",
    "df_filtrat = df[df[coloana_dorita].str.contains(valoare_filtru, case=False, na=False)] \n",
    "\n",
    "\n",
    "# Calculăm procentul de respondenți care programează în Python\n",
    "procent = (len(df_filtrat) / len(df)) * 100\n",
    "\n",
    "# Afișăm rezultatul\n",
    "print(f\"Procentul de respondenți care programează în Python: {procent:.2f}%\")\n"
   ]
  },
  {
   "cell_type": "code",
   "execution_count": 24,
   "id": "b038d319",
   "metadata": {},
   "outputs": [
    {
     "name": "stdout",
     "output_type": "stream",
     "text": [
      "Numărul de respondenți care au învățat să programeze prin cursuri online: 43201\n"
     ]
    }
   ],
   "source": [
    "#6. Câți respondenți au învățat să programeze prin cursuri online?\n",
    "\n",
    "# Specificăm coloana dorită și valoarea de filtru (cursuri online)\n",
    "coloana_dorita = 'LearnCode'\n",
    "valoare_filtru = 'Online Courses or Certification'\n",
    "\n",
    "# Filtrăm DataFrame-ul pentru a obține rândurile cu valoarea corespunzătoare\n",
    "df_filtrat = df[df[coloana_dorita].str.contains(valoare_filtru, na=False)]\n",
    "\n",
    "# Calculăm numărul de respondenți\n",
    "numar_respondenti = len(df_filtrat)\n",
    "\n",
    "# Afișăm rezultatul\n",
    "print(f\"Numărul de respondenți care au învățat să programeze prin cursuri online: {numar_respondenti}\")"
   ]
  },
  {
   "cell_type": "code",
   "execution_count": 25,
   "id": "bfa94024",
   "metadata": {},
   "outputs": [
    {
     "name": "stdout",
     "output_type": "stream",
     "text": [
      "                                              mean   median\n",
      "Country                                                    \n",
      "Afghanistan                             665.000000     48.0\n",
      "Albania                               28008.600000  11844.0\n",
      "Algeria                                8336.333333   6586.0\n",
      "Andorra                               32127.000000  32127.0\n",
      "Angola                                  662.000000    662.0\n",
      "...                                            ...      ...\n",
      "Venezuela, Bolivarian Republic of...  24973.529412  12000.0\n",
      "Viet Nam                              20191.870370  13401.0\n",
      "Yemen                                  8373.000000   9000.0\n",
      "Zambia                                13051.000000   9687.0\n",
      "Zimbabwe                               5600.000000   6000.0\n",
      "\n",
      "[173 rows x 2 columns]\n"
     ]
    }
   ],
   "source": [
    "#7. Dintre respondenții care programează în Python, grupați pe țări, care este valoarea medie și mediană a remunerației (ConvertedCompYearly) în fiecare țară?\n",
    "\n",
    "# Filtrăm rândurile pentru respondenții care programează în Python\n",
    "df_python = df[df['LanguageHaveWorkedWith'].str.contains('Python', na=False)]\n",
    "\n",
    "# Grupăm datele pe țări și calculăm media și mediana remunerației\n",
    "grupare_pe_tari = df_python.groupby('Country')['ConvertedCompYearly'].agg(['mean', 'median'])\n",
    "\n",
    "# Afișăm rezultatele\n",
    "print(grupare_pe_tari)"
   ]
  },
  {
   "cell_type": "code",
   "execution_count": 26,
   "id": "944ef13a",
   "metadata": {},
   "outputs": [
    {
     "name": "stdout",
     "output_type": "stream",
     "text": [
      "53268    Professional degree (JD, MD, Ph.D, Ed.D, etc.)\n",
      "77848    Professional degree (JD, MD, Ph.D, Ed.D, etc.)\n",
      "66223      Bachelor’s degree (B.A., B.S., B.Eng., etc.)\n",
      "28121                         Primary/elementary school\n",
      "19679    Professional degree (JD, MD, Ph.D, Ed.D, etc.)\n",
      "Name: EdLevel, dtype: object\n"
     ]
    }
   ],
   "source": [
    "#8. Ce nivel de educație au cei 5 respondenți cu cea mai mare compensație?\n",
    "\n",
    "# Sortăm DataFrame-ul după compensația convertită anual (ConvertedCompYearly) în ordine descrescătoare\n",
    "df_sortat = df.sort_values(by='ConvertedCompYearly', ascending=False)\n",
    "\n",
    "# Selectăm primele 5 rânduri (cei 5 respondenți cu cea mai mare compensație)\n",
    "cei_5_cu_cea_mai_mare_compensatie = df_sortat.head(5)\n",
    "\n",
    "# Afișăm nivelul de educație al acestor respondenți\n",
    "print(cei_5_cu_cea_mai_mare_compensatie['EdLevel'])\n"
   ]
  },
  {
   "cell_type": "code",
   "execution_count": null,
   "id": "c647b568",
   "metadata": {},
   "outputs": [],
   "source": []
  }
 ],
 "metadata": {
  "kernelspec": {
   "display_name": "Python 3 (ipykernel)",
   "language": "python",
   "name": "python3"
  },
  "language_info": {
   "codemirror_mode": {
    "name": "ipython",
    "version": 3
   },
   "file_extension": ".py",
   "mimetype": "text/x-python",
   "name": "python",
   "nbconvert_exporter": "python",
   "pygments_lexer": "ipython3",
   "version": "3.11.7"
  }
 },
 "nbformat": 4,
 "nbformat_minor": 5
}
